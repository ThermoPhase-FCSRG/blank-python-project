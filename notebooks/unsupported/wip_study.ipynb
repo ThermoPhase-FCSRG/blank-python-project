{
 "cells": [
  {
   "cell_type": "markdown",
   "id": "f5c2057f",
   "metadata": {},
   "source": [
    "# A WIP notebook\n",
    "\n",
    "This is an example of a notebook that could be a WIP, a PoC (proof-of-concept), or some kind of draft that is not ready to be tested or checked. Thus, both docs and tests have to skip this file. "
   ]
  },
  {
   "cell_type": "markdown",
   "id": "45781ef5",
   "metadata": {},
   "source": [
    "## Loading dependencies"
   ]
  },
  {
   "cell_type": "code",
   "execution_count": 1,
   "id": "761d570d",
   "metadata": {},
   "outputs": [],
   "source": [
    "import numpy as np\n",
    "\n",
    "from mypackage import foo, goo"
   ]
  },
  {
   "cell_type": "markdown",
   "id": "7bb01d74",
   "metadata": {},
   "source": [
    "## Innovative and risky calculation\n",
    "\n",
    "This representing something we are still figuring out, not ready for production."
   ]
  },
  {
   "cell_type": "code",
   "execution_count": 2,
   "id": "30724831",
   "metadata": {},
   "outputs": [],
   "source": [
    "def calculate_crazy_quantity(x: float, m: float, b: float) -> np.ndarray:\n",
    "    \"\"\"\n",
    "    Disruptive and innovative calculation\n",
    "\n",
    "    :param x:\n",
    "        Independent variable.\n",
    "        \n",
    "    :param m: \n",
    "        The rate constant associated with the independent variable.\n",
    "        \n",
    "    :param b:\n",
    "        The constant displacement associated with the independent variable.\n",
    "        \n",
    "    :return:\n",
    "        Some crazy quantity that nobody thought of before.\n",
    "    \"\"\"\n",
    "    crazy_quantity = foo.a_function(x, 3) / goo.calculate_something_big(x, m, b)\n",
    "    return crazy_quantity"
   ]
  },
  {
   "cell_type": "markdown",
   "id": "8fd13173",
   "metadata": {},
   "source": [
    "A result that is really hard to understand:"
   ]
  },
  {
   "cell_type": "code",
   "execution_count": 3,
   "id": "9c1cb836",
   "metadata": {},
   "outputs": [
    {
     "data": {
      "text/plain": [
       "array([1.5, 1.5, 1.5])"
      ]
     },
     "execution_count": 3,
     "metadata": {},
     "output_type": "execute_result"
    }
   ],
   "source": [
    "breakthrough_result = calculate_crazy_quantity(2, 0.5, 1)\n",
    "\n",
    "breakthrough_result"
   ]
  }
 ],
 "metadata": {
  "kernelspec": {
   "display_name": "blank-project",
   "language": "python",
   "name": "python3"
  },
  "language_info": {
   "codemirror_mode": {
    "name": "ipython",
    "version": 3
   },
   "file_extension": ".py",
   "mimetype": "text/x-python",
   "name": "python",
   "nbconvert_exporter": "python",
   "pygments_lexer": "ipython3",
   "version": "3.11.12"
  }
 },
 "nbformat": 4,
 "nbformat_minor": 5
}
