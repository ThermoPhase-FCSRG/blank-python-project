{
 "cells": [
  {
   "cell_type": "markdown",
   "id": "b4474359",
   "metadata": {},
   "source": [
    "# A fancy demonstration\n",
    "\n",
    "This notebook demonstrates how to incorporate ipynb files both as tests and docs. Just imagine that we have a bunch of important and fancy calculations and explanations."
   ]
  },
  {
   "cell_type": "markdown",
   "id": "b344c482",
   "metadata": {},
   "source": [
    "## Loading the dependencies\n",
    "\n",
    "This is all the packages that we will need to solve the _amazing_ problems considered in this study."
   ]
  },
  {
   "cell_type": "code",
   "execution_count": 1,
   "id": "ea1ed49f",
   "metadata": {},
   "outputs": [],
   "source": [
    "from mypackage import foo, goo"
   ]
  },
  {
   "cell_type": "markdown",
   "id": "601762ce",
   "metadata": {},
   "source": [
    "## Solving fancy problems with `foo`\n",
    "\n",
    "Note that `foo` is already covered in test files."
   ]
  },
  {
   "cell_type": "code",
   "execution_count": 2,
   "id": "d607d690",
   "metadata": {},
   "outputs": [
    {
     "name": "stdout",
     "output_type": "stream",
     "text": [
      "The output is [2. 2. 2.]\n"
     ]
    }
   ],
   "source": [
    "important_output = foo.a_function(1, 3)\n",
    "\n",
    "print(f\"The output is {important_output}\")"
   ]
  },
  {
   "cell_type": "markdown",
   "id": "55fbbccb",
   "metadata": {},
   "source": [
    "## Solving challenging problems with `goo`\n",
    "\n",
    "The `goo` module is not covered by usual `pytest` test files. So, if this notebooks works properly, the cell below should works as a test and the coverage should be extended considering the usage of `goo` here."
   ]
  },
  {
   "cell_type": "code",
   "execution_count": 3,
   "id": "20aa19f6",
   "metadata": {},
   "outputs": [
    {
     "name": "stdout",
     "output_type": "stream",
     "text": [
      "The Nobel prize worthy solution is 7\n"
     ]
    }
   ],
   "source": [
    "hard_solution = goo.calculate_something_big(2, 1, 5)\n",
    "\n",
    "print(f\"The Nobel prize worthy solution is {hard_solution}\")"
   ]
  }
 ],
 "metadata": {
  "kernelspec": {
   "display_name": "blank-project",
   "language": "python",
   "name": "python3"
  },
  "language_info": {
   "codemirror_mode": {
    "name": "ipython",
    "version": 3
   },
   "file_extension": ".py",
   "mimetype": "text/x-python",
   "name": "python",
   "nbconvert_exporter": "python",
   "pygments_lexer": "ipython3",
   "version": "3.11.12"
  }
 },
 "nbformat": 4,
 "nbformat_minor": 5
}
